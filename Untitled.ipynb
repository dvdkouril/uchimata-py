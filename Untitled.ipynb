{
 "cells": [
  {
   "cell_type": "code",
   "execution_count": 1,
   "id": "bbbb9c3a",
   "metadata": {},
   "outputs": [],
   "source": [
    "# /// script\n",
    "# requires-python = \">=3.11\"\n",
    "# dependencies = [\n",
    "#     \"chromospyce\",\n",
    "#     \"numpy\",\n",
    "# ]\n",
    "# ///"
   ]
  },
  {
   "cell_type": "code",
   "execution_count": 1,
   "id": "3a492bc4-05e6-46c9-84dd-3ab6f9af8feb",
   "metadata": {},
   "outputs": [
    {
     "name": "stdout",
     "output_type": "stream",
     "text": [
      "env: ANYWIDGET_HMR=1\n"
     ]
    }
   ],
   "source": [
    "%load_ext autoreload\n",
    "%autoreload 2\n",
    "%env ANYWIDGET_HMR=1"
   ]
  },
  {
   "cell_type": "code",
   "execution_count": 2,
   "id": "2e77ecbc-ed77-42eb-aa68-a2ed89d1ca39",
   "metadata": {},
   "outputs": [
    {
     "data": {
      "application/vnd.jupyter.widget-view+json": {
       "model_id": "6169d7ab15a24bb7aaa26407d3b9a15f",
       "version_major": 2,
       "version_minor": 1
      },
      "text/plain": [
       "Widget(structure=b'ARROW1\\x00\\x00\\xff\\xff\\xff\\xff0\\x01\\x00\\x00\\x10\\x00\\x00\\x00\\x00\\x00\\n\\x00\\x0c\\x00\\x06\\x00\\x…"
      ]
     },
     "execution_count": 2,
     "metadata": {},
     "output_type": "execute_result"
    }
   ],
   "source": [
    "import requests\n",
    "import chromospyce\n",
    "\n",
    "def fetchFile(url):\n",
    "    response = requests.get(url)\n",
    "    if (response.status_code == 200):\n",
    "        # print(response.content[0:10])\n",
    "        file = response.content\n",
    "        return file\n",
    "    else:\n",
    "        print(\"Error fetching the remote file\")\n",
    "        return None\n",
    "\n",
    "url = \"https://pub-5c3f8ce35c924114a178c6e929fc3ac7.r2.dev/Tan-2018_GSM3271347_gm12878_01.arrow\"\n",
    "model = fetchFile(url)\n",
    "w = chromospyce.Widget(structure=model)\n",
    "w"
   ]
  },
  {
   "cell_type": "code",
   "execution_count": 3,
   "id": "81063902-ec1f-4e22-816d-349f3888a2c7",
   "metadata": {},
   "outputs": [],
   "source": [
    "# w.get(\"5(mat)\")\n",
    "# chromospyce.select(1, 2)"
   ]
  },
  {
   "cell_type": "code",
   "execution_count": 4,
   "id": "769aab27-db50-4070-aa29-c3e6e2dc3bf8",
   "metadata": {},
   "outputs": [
    {
     "data": {
      "text/plain": [
       "b'ARROW1\\x00\\x00\\xff\\xff\\xff\\xff0\\x01\\x00\\x00\\x10\\x00\\x00\\x00'"
      ]
     },
     "execution_count": 4,
     "metadata": {},
     "output_type": "execute_result"
    }
   ],
   "source": [
    "# data = w.as_arrow()\n",
    "data = w.get_data()\n",
    "data[0:20]\n",
    "# type(data)"
   ]
  },
  {
   "cell_type": "code",
   "execution_count": 5,
   "id": "b832f243-0de1-43d3-9188-29683fe5bfc0",
   "metadata": {},
   "outputs": [
    {
     "data": {
      "application/vnd.jupyter.widget-view+json": {
       "model_id": "f7dbec01b63d41ea9f425bce75770dfe",
       "version_major": 2,
       "version_minor": 1
      },
      "text/plain": [
       "Widget(selection_query='1(mat)', structure=b'ARROW1\\x00\\x00\\xff\\xff\\xff\\xff0\\x01\\x00\\x00\\x10\\x00\\x00\\x00\\x00\\x…"
      ]
     },
     "execution_count": 5,
     "metadata": {},
     "output_type": "execute_result"
    }
   ],
   "source": [
    "vc = {\n",
    "    \"color\": \"lightgreen\",\n",
    "    \"scale\": 0.01, \n",
    "    \"links\": True, \n",
    "    \"mark\": \"sphere\"\n",
    "}\n",
    "w = chromospyce.Widget(structure=model, viewconfig=vc, query=\"1(mat)\")\n",
    "w"
   ]
  },
  {
   "cell_type": "code",
   "execution_count": 6,
   "id": "b7941af6-e0ac-4b21-9dc2-4ad7304197b7",
   "metadata": {},
   "outputs": [
    {
     "data": {
      "text/plain": [
       "pyarrow.Table\n",
       "x: double\n",
       "y: double\n",
       "z: double\n",
       "chr: string\n",
       "coord: int64\n",
       "----\n",
       "x: [[12.3528709527,12.1244098587,11.6101621442,11.9458362613,11.1526788001,...,-22.4086723198,-22.5491231047,-22.2105913423,-22.435545409,-22.4462917417]]\n",
       "y: [[-0.576573862516,-1.58318005875,-2.55198767562,-3.79444974267,-6.60360979225,...,4.34541991938,4.41491854872,3.48727807813,4.41835792281,3.74415416686]]\n",
       "z: [[-31.8392663176,-31.4202877336,-31.7546869606,-31.629211603,-30.8032201569,...,0.0427288657432,-1.19898455027,0.020056875535,1.32847280636,2.64176880639]]\n",
       "chr: [[\"15(pat)\",\"15(pat)\",\"15(pat)\",\"15(pat)\",\"15(pat)\",...,\"4(pat)\",\"4(pat)\",\"4(pat)\",\"4(pat)\",\"4(pat)\"]]\n",
       "coord: [[20000000,20100000,20200000,20300000,20400000,...,190600000,190700000,190800000,190900000,191000000]]"
      ]
     },
     "execution_count": 6,
     "metadata": {},
     "output_type": "execute_result"
    }
   ],
   "source": [
    "import pyarrow as pa\n",
    "reader = pa.ipc.open_file(model)\n",
    "# this doesn't work for some reason:\n",
    "# reader = pa.ipc.open_stream(model)\n",
    "table = reader.read_all()\n",
    "table\n",
    "# type(model)"
   ]
  },
  {
   "cell_type": "code",
   "execution_count": 7,
   "id": "db2e0aae-9cca-49fb-a91a-1e0cdd8cef48",
   "metadata": {},
   "outputs": [
    {
     "data": {
      "text/plain": [
       "array([[ 1.23528710e+01, -5.76573863e-01, -3.18392663e+01],\n",
       "       [ 1.21244099e+01, -1.58318006e+00, -3.14202877e+01],\n",
       "       [ 1.16101621e+01, -2.55198768e+00, -3.17546870e+01],\n",
       "       ...,\n",
       "       [-2.22105913e+01,  3.48727808e+00,  2.00568755e-02],\n",
       "       [-2.24355454e+01,  4.41835792e+00,  1.32847281e+00],\n",
       "       [-2.24462917e+01,  3.74415417e+00,  2.64176881e+00]])"
      ]
     },
     "execution_count": 7,
     "metadata": {},
     "output_type": "execute_result"
    }
   ],
   "source": [
    "d = w.get_data(\"numpy\")\n",
    "d\n",
    "# d[0:10]"
   ]
  },
  {
   "cell_type": "code",
   "execution_count": 8,
   "id": "07c82625-5c57-4a51-b330-21eb4bc9e746",
   "metadata": {},
   "outputs": [
    {
     "data": {
      "application/vnd.jupyter.widget-view+json": {
       "model_id": "6cb2c74527884c338a2865f0f6ae23b6",
       "version_major": 2,
       "version_minor": 1
      },
      "text/plain": [
       "Widget(structure=b'\\xff\\xff\\xff\\xff\\x80\\x03\\x00\\x00\\x10\\x00\\x00\\x00\\x00\\x00\\n\\x00\\x0e\\x00\\x06\\x00\\x05\\x00\\x08\\…"
      ]
     },
     "execution_count": 8,
     "metadata": {},
     "output_type": "execute_result"
    }
   ],
   "source": [
    "chromospyce.Widget(structure=d)"
   ]
  },
  {
   "cell_type": "code",
   "execution_count": 17,
   "id": "d51090c6-f886-4aa3-a7c1-c4e1891ce85c",
   "metadata": {},
   "outputs": [
    {
     "data": {
      "text/plain": [
       "pyarrow.Table\n",
       "x: double\n",
       "y: double\n",
       "z: double\n",
       "chr: string\n",
       "coord: int64\n",
       "----\n",
       "x: [[-1.89423084519,-0.917948598079,-0.922584300263,0.0955759699535,0.533748327757,...,0.69746017837,0.556384881856,1.34118448303,2.29903917917,2.12931779384]]\n",
       "y: [[-10.4383937391,-10.9050420353,-11.8190154362,-11.478549091,-10.6627543981,...,-6.04462753928,-4.90212030323,-4.7110136733,-5.19785010816,-4.52889223201]]\n",
       "z: [[-5.41342713888,-5.68298574516,-6.43920844553,-6.79223096628,-6.04250558148,...,27.6712597567,27.6197170338,28.1175290637,27.2617505247,26.6439021259]]\n",
       "chr: [[\"1(mat)\",\"1(mat)\",\"1(mat)\",\"1(mat)\",\"1(mat)\",...,\"1(mat)\",\"1(mat)\",\"1(mat)\",\"1(mat)\",\"1(mat)\"]]\n",
       "coord: [[900000,1000000,1100000,1200000,1300000,...,248900000,249000000,249100000,249200000,249300000]]"
      ]
     },
     "execution_count": 17,
     "metadata": {},
     "output_type": "execute_result"
    }
   ],
   "source": [
    "reader = pa.ipc.open_file(model)\n",
    "struct_table = reader.read_all()\n",
    "# table\n",
    "new_table = con.execute(\"SELECT * FROM struct_table WHERE chr = '1(mat)'\").arrow()\n",
    "new_table"
   ]
  },
  {
   "cell_type": "code",
   "execution_count": 9,
   "id": "7ec7ddb4-5979-4afa-853e-3b51d4d05247",
   "metadata": {},
   "outputs": [
    {
     "ename": "NameError",
     "evalue": "name 'new_table' is not defined",
     "output_type": "error",
     "traceback": [
      "\u001b[0;31m---------------------------------------------------------------------------\u001b[0m",
      "\u001b[0;31mNameError\u001b[0m                                 Traceback (most recent call last)",
      "Cell \u001b[0;32mIn[9], line 2\u001b[0m\n\u001b[1;32m      1\u001b[0m sink \u001b[38;5;241m=\u001b[39m pa\u001b[38;5;241m.\u001b[39mBufferOutputStream()\n\u001b[0;32m----> 2\u001b[0m writer \u001b[38;5;241m=\u001b[39m pa\u001b[38;5;241m.\u001b[39mipc\u001b[38;5;241m.\u001b[39mnew_stream(sink, \u001b[43mnew_table\u001b[49m\u001b[38;5;241m.\u001b[39mschema)\n\u001b[1;32m      3\u001b[0m writer\u001b[38;5;241m.\u001b[39mwrite_table(new_table)\n\u001b[1;32m      4\u001b[0m writer\u001b[38;5;241m.\u001b[39mclose()\n",
      "\u001b[0;31mNameError\u001b[0m: name 'new_table' is not defined"
     ]
    }
   ],
   "source": [
    "sink = pa.BufferOutputStream()\n",
    "writer = pa.ipc.new_stream(sink, new_table.schema)\n",
    "writer.write_table(new_table)\n",
    "writer.close()\n",
    "\n",
    "# Get the bytes\n",
    "arrow_bytes = sink.getvalue().to_pybytes()\n",
    "\n",
    "vc2 = {\n",
    "    \"color\": \"lightgreen\",\n",
    "    \"scale\": 0.01, \n",
    "    \"links\": True, \n",
    "    \"mark\": \"sphere\"\n",
    "}\n",
    "\n",
    "chromospyce.Widget(structure=arrow_bytes, viewconfig=vc2)"
   ]
  },
  {
   "cell_type": "code",
   "execution_count": 29,
   "id": "8adaf97b-2e46-4141-a54b-4d9192c88d2d",
   "metadata": {},
   "outputs": [],
   "source": [
    "import re\n",
    "import duckdb\n",
    "\n",
    "def select(_model, _query):\n",
    "    # convert arrow Bytes to Table\n",
    "    reader = pa.ipc.open_file(model)\n",
    "    struct_table = reader.read_all()\n",
    "    # separate query into \"chromosome:starCoord-endCoord\"\n",
    "    if \":\" in _query:\n",
    "        match = re.match(r\"([^\\:]+):(\\d+)-(\\d+)\", _query)\n",
    "        if match:\n",
    "            chrom, start, end = match.groups()\n",
    "            sqlQuery = f'SELECT * FROM struct_table WHERE chr = \\'{chrom}\\' AND coord >= {start} AND coord <= {end}'\n",
    "        else:\n",
    "            print(\"Pattern does not match.\")\n",
    "            return\n",
    "    else:\n",
    "        sqlQuery = f'SELECT * FROM struct_table WHERE chr = \\'{_query}\\''\n",
    "    \n",
    "    con = duckdb.connect()\n",
    "    print(sqlQuery)\n",
    "    new_table = con.execute(sqlQuery).arrow()\n",
    "    print(new_table)\n",
    "    # new_table\n",
    "    sink = pa.BufferOutputStream()\n",
    "    writer = pa.ipc.new_stream(sink, new_table.schema)\n",
    "    writer.write_table(new_table)\n",
    "    writer.close()\n",
    "\n",
    "    # Get the bytes\n",
    "    arrow_bytes = sink.getvalue().to_pybytes()\n",
    "\n",
    "    vc2 = {\n",
    "        \"color\": \"lightgreen\",\n",
    "        \"scale\": 0.01, \n",
    "        \"links\": True, \n",
    "        \"mark\": \"sphere\"\n",
    "    }\n",
    "\n",
    "    return chromospyce.Widget(structure=arrow_bytes, viewconfig=vc2)"
   ]
  },
  {
   "cell_type": "code",
   "execution_count": 34,
   "id": "1cd0d65a-73cc-4838-badc-a647940f5a16",
   "metadata": {},
   "outputs": [
    {
     "name": "stdout",
     "output_type": "stream",
     "text": [
      "SELECT * FROM struct_table WHERE chr = '4(pat)'\n",
      "pyarrow.Table\n",
      "x: double\n",
      "y: double\n",
      "z: double\n",
      "chr: string\n",
      "coord: int64\n",
      "----\n",
      "x: [[-6.63201570177,-6.77308100746,-6.83004864158,-7.65864448199,-7.26244395599,...,-22.4086723198,-22.5491231047,-22.2105913423,-22.435545409,-22.4462917417]]\n",
      "y: [[5.41832206311,5.91828263765,4.63385674209,4.47081675609,3.75112988452,...,4.34541991938,4.41491854872,3.48727807813,4.41835792281,3.74415416686]]\n",
      "z: [[-1.38867729049,-0.233990357699,0.50397463275,-0.0425191936182,0.34580068082,...,0.0427288657432,-1.19898455027,0.020056875535,1.32847280636,2.64176880639]]\n",
      "chr: [[\"4(pat)\",\"4(pat)\",\"4(pat)\",\"4(pat)\",\"4(pat)\",...,\"4(pat)\",\"4(pat)\",\"4(pat)\",\"4(pat)\",\"4(pat)\"]]\n",
      "coord: [[200000,300000,400000,500000,600000,...,190600000,190700000,190800000,190900000,191000000]]\n"
     ]
    },
    {
     "data": {
      "application/vnd.jupyter.widget-view+json": {
       "model_id": "009333cedcca47e5b95f21d094a1d7ae",
       "version_major": 2,
       "version_minor": 1
      },
      "text/plain": [
       "Widget(structure=b'\\xff\\xff\\xff\\xff0\\x01\\x00\\x00\\x10\\x00\\x00\\x00\\x00\\x00\\n\\x00\\x0c\\x00\\x06\\x00\\x05\\x00\\x08\\x00…"
      ]
     },
     "execution_count": 34,
     "metadata": {},
     "output_type": "execute_result"
    }
   ],
   "source": [
    "select(model, \"4(pat)\")\n",
    "# select(model, \"15(pat):20000000-40000000\")"
   ]
  },
  {
   "cell_type": "code",
   "execution_count": null,
   "id": "bf988b5d-1247-472c-9d0a-1b971d03a376",
   "metadata": {},
   "outputs": [],
   "source": []
  },
  {
   "cell_type": "code",
   "execution_count": 24,
   "id": "601cc093-2d81-4c00-b358-cbfa4465c0dd",
   "metadata": {},
   "outputs": [
    {
     "data": {
      "text/plain": [
       "pyarrow.Table\n",
       "x: double\n",
       "y: double\n",
       "z: double\n",
       "chr: string\n",
       "coord: int64\n",
       "----\n",
       "x: [[12.3528709527,12.1244098587,11.6101621442,11.9458362613,11.1526788001,...,-22.4086723198,-22.5491231047,-22.2105913423,-22.435545409,-22.4462917417]]\n",
       "y: [[-0.576573862516,-1.58318005875,-2.55198767562,-3.79444974267,-6.60360979225,...,4.34541991938,4.41491854872,3.48727807813,4.41835792281,3.74415416686]]\n",
       "z: [[-31.8392663176,-31.4202877336,-31.7546869606,-31.629211603,-30.8032201569,...,0.0427288657432,-1.19898455027,0.020056875535,1.32847280636,2.64176880639]]\n",
       "chr: [[\"15(pat)\",\"15(pat)\",\"15(pat)\",\"15(pat)\",\"15(pat)\",...,\"4(pat)\",\"4(pat)\",\"4(pat)\",\"4(pat)\",\"4(pat)\"]]\n",
       "coord: [[20000000,20100000,20200000,20300000,20400000,...,190600000,190700000,190800000,190900000,191000000]]"
      ]
     },
     "execution_count": 24,
     "metadata": {},
     "output_type": "execute_result"
    }
   ],
   "source": [
    "reader = pa.ipc.open_file(model)\n",
    "struct_table = reader.read_all()\n",
    "struct_table"
   ]
  },
  {
   "cell_type": "code",
   "execution_count": null,
   "id": "8cde3b0a-3ad0-4987-8d1b-091e3b253e5a",
   "metadata": {},
   "outputs": [],
   "source": []
  }
 ],
 "metadata": {
  "kernelspec": {
   "display_name": "Python 3 (ipykernel)",
   "language": "python",
   "name": "python3"
  },
  "language_info": {
   "codemirror_mode": {
    "name": "ipython",
    "version": 3
   },
   "file_extension": ".py",
   "mimetype": "text/x-python",
   "name": "python",
   "nbconvert_exporter": "python",
   "pygments_lexer": "ipython3",
   "version": "3.11.9"
  }
 },
 "nbformat": 4,
 "nbformat_minor": 5
}
