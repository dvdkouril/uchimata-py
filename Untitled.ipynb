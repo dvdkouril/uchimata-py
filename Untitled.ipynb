{
 "cells": [
  {
   "cell_type": "code",
   "execution_count": null,
   "id": "bbbb9c3a",
   "metadata": {},
   "outputs": [],
   "source": [
    "# /// script\n",
    "# requires-python = \">=3.11\"\n",
    "# dependencies = [\n",
    "#     \"chromospyce\",\n",
    "#     \"numpy\",\n",
    "# ]\n",
    "# ///"
   ]
  },
  {
   "cell_type": "code",
   "execution_count": null,
   "id": "3a492bc4-05e6-46c9-84dd-3ab6f9af8feb",
   "metadata": {},
   "outputs": [],
   "source": [
    "%load_ext autoreload\n",
    "%autoreload 2\n",
    "%env ANYWIDGET_HMR=1"
   ]
  },
  {
   "cell_type": "code",
   "execution_count": null,
   "id": "2e77ecbc-ed77-42eb-aa68-a2ed89d1ca39",
   "metadata": {},
   "outputs": [],
   "source": [
    "import requests\n",
    "import chromospyce\n",
    "\n",
    "def fetchFile(url):\n",
    "    response = requests.get(url)\n",
    "    if (response.status_code == 200):\n",
    "        # print(response.content[0:10])\n",
    "        file = response.content\n",
    "        return file\n",
    "    else:\n",
    "        print(\"Error fetching the remote file\")\n",
    "        return None\n",
    "\n",
    "url = \"https://pub-5c3f8ce35c924114a178c6e929fc3ac7.r2.dev/Tan-2018_GSM3271347_gm12878_01.arrow\"\n",
    "model = fetchFile(url)\n",
    "w = chromospyce.Widget(structure=model)\n",
    "w"
   ]
  },
  {
   "cell_type": "code",
   "execution_count": null,
   "id": "8cde3b0a-3ad0-4987-8d1b-091e3b253e5a",
   "metadata": {},
   "outputs": [],
   "source": [
    "d = chromospyce.select(model, \"1(mat)\")\n",
    "w = chromospyce.Widget(structure=d)\n",
    "w\n",
    "# type(model)\n",
    "# data = w.get_data(\"numpy\")\n",
    "# data"
   ]
  },
  {
   "cell_type": "code",
   "execution_count": null,
   "id": "2d7a487d-12c1-42e9-8d30-d01aa669d33b",
   "metadata": {},
   "outputs": [],
   "source": [
    "# url = \"https://pub-5c3f8ce35c924114a178c6e929fc3ac7.r2.dev/Tan-2018_GSM3271347_gm12878_01.arrow\"\n",
    "# w = chromospyce.select(url, \"chr1:10000-20000\")\n",
    "# d = w.get_data() # => Arrow"
   ]
  },
  {
   "cell_type": "code",
   "execution_count": null,
   "id": "ade37986-e377-4329-b2e2-8be9189b481f",
   "metadata": {},
   "outputs": [],
   "source": [
    "fail = b\"whatever\"\n",
    "w = chromospyce.Widget(structure=fail)\n",
    "w"
   ]
  },
  {
   "cell_type": "code",
   "execution_count": null,
   "id": "030308b7-9364-4603-9026-3d02e539411e",
   "metadata": {},
   "outputs": [],
   "source": []
  }
 ],
 "metadata": {
  "kernelspec": {
   "display_name": "Python 3 (ipykernel)",
   "language": "python",
   "name": "python3"
  },
  "language_info": {
   "codemirror_mode": {
    "name": "ipython",
    "version": 3
   },
   "file_extension": ".py",
   "mimetype": "text/x-python",
   "name": "python",
   "nbconvert_exporter": "python",
   "pygments_lexer": "ipython3",
   "version": "3.11.9"
  }
 },
 "nbformat": 4,
 "nbformat_minor": 5
}
