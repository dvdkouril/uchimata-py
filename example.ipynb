{
 "cells": [
  {
   "cell_type": "code",
   "execution_count": 1,
   "metadata": {},
   "outputs": [
    {
     "name": "stdout",
     "output_type": "stream",
     "text": [
      "env: ANYWIDGET_HMR=1\n"
     ]
    }
   ],
   "source": [
    "%load_ext autoreload\n",
    "%autoreload 2\n",
    "%env ANYWIDGET_HMR=1"
   ]
  },
  {
   "cell_type": "code",
   "execution_count": 2,
   "metadata": {},
   "outputs": [],
   "source": [
    "import chromospyce\n",
    "import numpy as np\n",
    "import pyarrow as pa"
   ]
  },
  {
   "cell_type": "code",
   "execution_count": 3,
   "metadata": {},
   "outputs": [
    {
     "name": "stdout",
     "output_type": "stream",
     "text": [
      "pyarrow.Table\n",
      "x: double\n",
      "y: double\n",
      "z: double\n",
      "----\n",
      "x: [[1.101124,-0.919687,-0.974526,-0.881394,-0.455539,...,-6.536989,-8.005743,-8.434383,-6.642313,-5.508548]]\n",
      "y: [[0.547027,1.275041,1.144577,-0.01193,-2.518781,...,7.12371,6.43679,6.780828,7.377457,8.773718]]\n",
      "z: [[-2.299305,-3.201912,-4.491504,-4.496625,-2.50066,...,-0.646818,0.229201,1.666676,2.143932,3.108167]]\n"
     ]
    }
   ],
   "source": [
    "# Loading from local arrow file\n",
    "with pa.memory_map('sample_data/test.arrow', 'r') as source:\n",
    "    table_local_file = pa.ipc.open_stream(source).read_all()\n",
    "    \n",
    "# arr = loaded_arrays[0]\n",
    "# print(f\"{arr[0]} .. {arr[-1]}\")\n",
    "print(table_local_file)"
   ]
  },
  {
   "cell_type": "code",
   "execution_count": 4,
   "metadata": {},
   "outputs": [
    {
     "name": "stdout",
     "output_type": "stream",
     "text": [
      "pyarrow.Table\n",
      "x: double\n",
      "y: double\n",
      "z: double\n",
      "----\n",
      "x: [[86.264829,89.268308,88.305441,75.745795,53.745219,...,280.622991,305.417506,320.119478,338.288702,350.848349]]\n",
      "y: [[49.017552,58.618929,81.35903,81.864366,77.316346,...,-807.526275,-811.063625,-798.430235,-807.02094,-807.526275]]\n",
      "z: [[-44.123079,-20.945442,-9.974078,-31.892337,-43.455223,...,184.114058,187.450125,203.656903,218.969944,240.888202]]\n"
     ]
    }
   ],
   "source": [
    "# Loading from local arrow file\n",
    "# '/Users/davidkouril/projects/chromospace/data/model/model.arrow'\n",
    "with pa.memory_map('/Users/davidkouril/projects/chromospace/data/dros.3.arrow', 'r') as source:\n",
    "    table_local_file = pa.ipc.open_stream(source).read_all()\n",
    "    \n",
    "# arr = loaded_arrays[0]\n",
    "# print(f\"{arr[0]} .. {arr[-1]}\")\n",
    "print(table_local_file)"
   ]
  },
  {
   "cell_type": "code",
   "execution_count": 5,
   "metadata": {},
   "outputs": [
    {
     "name": "stdout",
     "output_type": "stream",
     "text": [
      "pyarrow.Table\n",
      "x: double\n",
      "y: double\n",
      "z: double\n",
      "chr: dictionary<values=string, indices=int32, ordered=0>\n",
      "coord: double\n",
      "----\n",
      "x: [[9.938,9.186,8.522,7.598,6.961,...,-6.539,-7.057,-8.052,-8.828,-8.591]]\n",
      "y: [[-6.486,-7.26,-7.236,-6.794,-6.321,...,-12.718,-13.757,-14.231,-13.541,-13.618]]\n",
      "z: [[-1.413,-0.924,-0.53,-1.174,-0.707,...,-13.653,-14.067,-13.372,-13.621,-13.117]]\n",
      "chr: [  -- dictionary:\n",
      "[\"chr a\",\"chr b\",\"chr c\",\"chr d\",\"chr e\",...,\"chr p\",\"chr q\",\"chr r\",\"chr s\",\"chr t\"]  -- indices:\n",
      "[0,0,0,0,0,...,19,19,19,19,19]]\n",
      "coord: [[3000000,3100000,3200000,3300000,3400000,...,9400000,9500000,9600000,9700000,9800000]]\n"
     ]
    },
    {
     "data": {
      "application/vnd.jupyter.widget-view+json": {
       "model_id": "c37c09c8d3f84885bfd9cc98ff457811",
       "version_major": 2,
       "version_minor": 1
      },
      "text/plain": [
       "Widget(structure=b'\\xff\\xff\\xff\\xffX\\x01\\x00\\x00\\x10\\x00\\x00\\x00\\x00\\x00\\n\\x00\\x0c\\x00\\x06\\x00\\x05\\x00\\x08\\x00…"
      ]
     },
     "execution_count": 5,
     "metadata": {},
     "output_type": "execute_result"
    }
   ],
   "source": [
    "# Make an Arrow Table from the x, y, z coordinate arrays\n",
    "# table = pa.Table.from_arrays(decons_data, names=[\"x\", \"y\", \"z\"])\n",
    "\n",
    "# '/Users/davidkouril/projects/chromospace/scripts/out/stevens-cell1-test.arrow'\n",
    "with pa.memory_map('/Users/davidkouril/projects/chromospace/scripts/out/stevens-model.arrow', 'r') as source:\n",
    "    table_local_file = pa.ipc.open_stream(source).read_all()\n",
    "\n",
    "print(table_local_file)\n",
    "# Convert the Table to bytes\n",
    "output_stream = pa.BufferOutputStream()\n",
    "with pa.ipc.RecordBatchStreamWriter(output_stream, table_local_file.schema) as writer:\n",
    "    writer.write_table(table_local_file)\n",
    "\n",
    "N = 200\n",
    "numbers = list(range(1, N+1))\n",
    "\n",
    "vc = {\n",
    "    \"color\": \"purple\", \n",
    "    \"scale\": 0.001, \"links\": True, \"mark\": \"sphere\"\n",
    "}\n",
    "\n",
    "# Get the bytes from the output stream\n",
    "table_bytes = output_stream.getvalue().to_pybytes()\n",
    "# Show the structure via chromospyce widget\n",
    "chromospyce.Widget(structure=table_bytes, viewconfig=vc)"
   ]
  },
  {
   "cell_type": "code",
   "execution_count": 7,
   "metadata": {},
   "outputs": [
    {
     "data": {
      "application/vnd.jupyter.widget-view+json": {
       "model_id": "29d2fa38b5ac4f32b3a62c23e3209470",
       "version_major": 2,
       "version_minor": 1
      },
      "text/plain": [
       "Widget(structure=b'ARROW1\\x00\\x00\\xff\\xff\\xff\\xff\\xc8\\x00\\x00\\x00\\x10\\x00\\x00\\x00\\x00\\x00\\n\\x00\\x0c\\x00\\x06\\x0…"
      ]
     },
     "execution_count": 7,
     "metadata": {},
     "output_type": "execute_result"
    }
   ],
   "source": [
    "import pyarrow.feather as feather\n",
    "from pathlib import Path\n",
    "\n",
    "table = feather.read_feather('/Users/davidkouril/Downloads/model.arrow')\n",
    "# print(table)\n",
    "\n",
    "# file = Path('/Users/davidkouril/Downloads/model.arrow')\n",
    "file = Path('/Users/davidkouril/projects/spatial-genome-data/sbif-2021/out/dros.3.arrow')\n",
    "# file = Path('/Users/davidkouril/projects/spatial-genome-data/stevens-2017/out/GSM2219497_Cell_1_model_1.arrow')\n",
    "file_as_bytes = file.read_bytes()\n",
    "\n",
    "# print(file_as_bytes[0:10])\n",
    "\n",
    "# with pa.memory_map('/Users/davidkouril/Downloads/model.arrow', 'r') as source:\n",
    "#     table_local_file = pa.ipc.open_stream(source).read_all()\n",
    "\n",
    "# print(table_local_file)\n",
    "\n",
    "# Show the structure via chromospyce widget\n",
    "# vc = {\"color\": \"#0000ff\", \"scale\": 0.01, \"links\": True, \"mark\": \"sphere\"}\n",
    "vc = {\"scale\": 0.002, \"links\": True, \"mark\": \"sphere\"}\n",
    "\n",
    "chromospyce.Widget(structure=file_as_bytes, viewconfig=vc)"
   ]
  },
  {
   "cell_type": "markdown",
   "metadata": {},
   "source": [
    "## Loading a local Arrow file"
   ]
  },
  {
   "cell_type": "markdown",
   "metadata": {},
   "source": [
    "## Passing a numpy array"
   ]
  },
  {
   "cell_type": "code",
   "execution_count": 5,
   "metadata": {},
   "outputs": [],
   "source": [
    "import random\n",
    "\n",
    "def make_random_3D_chromatin_structure(n):\n",
    "    position = np.array([0.0, 0.0, 0.0])\n",
    "    positions = [position.copy()]\n",
    "    x_arr = []\n",
    "    y_arr = []\n",
    "    z_arr = []\n",
    "    for _ in range(n):\n",
    "        step = np.random.choice([-1.0, 0.0, 1.0], size=3)  # Randomly choose to move left, right, up, down, forward, or backward\n",
    "        position += step\n",
    "        positions.append(position.copy())\n",
    "    return positions\n",
    "\n",
    "def deconstruct_into_column_arrays(nparr):\n",
    "    x_arr = []\n",
    "    y_arr = []\n",
    "    z_arr = []\n",
    "    for row in nparr:\n",
    "        x_arr.append(row[0])\n",
    "        y_arr.append(row[1])\n",
    "        z_arr.append(row[2])\n",
    "        \n",
    "    return [x_arr, y_arr, z_arr]"
   ]
  },
  {
   "cell_type": "code",
   "execution_count": null,
   "metadata": {},
   "outputs": [],
   "source": [
    "## Use case 1: Passing raw numpy array\n",
    "test_data = make_random_3D_chromatin_structure(n=100)\n",
    "data = np.array(test_data)\n",
    "\n",
    "decons_data = deconstruct_into_column_arrays(data)\n",
    "# decons_data"
   ]
  },
  {
   "cell_type": "code",
   "execution_count": null,
   "metadata": {},
   "outputs": [],
   "source": [
    "# Make an Arrow Table from the x, y, z coordinate arrays\n",
    "table = pa.Table.from_arrays(decons_data, names=[\"x\", \"y\", \"z\"])\n",
    "\n",
    "# Convert the Table to bytes\n",
    "output_stream = pa.BufferOutputStream()\n",
    "with pa.ipc.RecordBatchStreamWriter(output_stream, table.schema) as writer:\n",
    "    writer.write_table(table)\n",
    "\n",
    "# Get the bytes from the output stream\n",
    "table_bytes = output_stream.getvalue().to_pybytes()\n",
    "# table_bytes"
   ]
  },
  {
   "cell_type": "code",
   "execution_count": null,
   "metadata": {},
   "outputs": [],
   "source": [
    "# Show the structure via chromospyce widget\n",
    "vc = {\"color\": \"#6600ff\", \"scale\": 0.02, \"links\": True, \"mark\": \"sphere\"}\n",
    "\n",
    "chromospyce.Widget(structure=table_bytes, viewconfig=vc)"
   ]
  },
  {
   "cell_type": "markdown",
   "metadata": {},
   "source": [
    "## Parsing an XYZ string"
   ]
  },
  {
   "cell_type": "code",
   "execution_count": null,
   "metadata": {},
   "outputs": [],
   "source": [
    "# ## Use case 2: Passing XYZ string\n",
    "test_string = \"\"\"6\n",
    "sample = 0\n",
    "CA\t1.101124\t0.547027\t-2.299305\n",
    "CA\t-0.919687\t1.275041\t-3.201912\n",
    "CA\t-0.974526\t1.144577\t-4.491504\n",
    "CA\t-0.881394\t-0.011930\t-4.496625\n",
    "CA\t-0.455539\t-2.518781\t-2.500660\n",
    "CA\t-0.626368\t-2.086400\t-3.427676\n",
    "\"\"\"\n",
    "\n",
    "def parseXYZ(content):\n",
    "    x_array = []\n",
    "    y_array = []\n",
    "    z_array = []\n",
    "    delimiter='\\t'\n",
    "    lines = content.splitlines()\n",
    "    # lines\n",
    "    lineNumber = 0\n",
    "    firstLine = lines[0]\n",
    "    lineNum = int(firstLine)\n",
    "    for line in lines:\n",
    "        if lineNumber < 2:\n",
    "            lineNumber = lineNumber + 1\n",
    "            continue\n",
    "        if lineNumber > lineNum:\n",
    "            break\n",
    "        lineNumber = lineNumber + 1\n",
    "        tokens = line.split(delimiter)\n",
    "        if len(tokens) < 4:\n",
    "            continue\n",
    "        \n",
    "        x = float(tokens[1])\n",
    "        y = float(tokens[2])\n",
    "        z = float(tokens[3])\n",
    "        x_array.append(x)\n",
    "        y_array.append(y)\n",
    "        z_array.append(z)\n",
    "\n",
    "    return [x_array, y_array, z_array]\n",
    "\n",
    "# x_array\n",
    "res = parseXYZ(test_string)\n",
    "x_array = res[0]\n",
    "y_array = res[1]\n",
    "z_array = res[2]\n",
    "# Make an Arrow Table from the x, y, z coordinate arrays\n",
    "table2 = pa.Table.from_arrays([x_array, y_array, z_array], names=[\"x\", \"y\", \"z\"])\n",
    "\n",
    "# Convert the Table to bytes\n",
    "output_stream2 = pa.BufferOutputStream()\n",
    "with pa.ipc.RecordBatchStreamWriter(output_stream2, table2.schema) as writer:\n",
    "    writer.write_table(table2)\n",
    "\n",
    "# Get the bytes from the output stream\n",
    "table2_bytes = output_stream2.getvalue().to_pybytes()\n",
    "\n",
    "# chromospyce.Widget(structure_string=test_string, delimiter=\"\\t\")\n",
    "chromospyce.Widget(structure=table2_bytes)"
   ]
  },
  {
   "cell_type": "code",
   "execution_count": null,
   "metadata": {},
   "outputs": [],
   "source": [
    "# ## Use case 3: Passing XYZ file path\n",
    "# import pathlib\n",
    "# test_path = pathlib.Path(\"./sample_data/test.xyz\")\n",
    "\n",
    "with open('./sample_data/test.xyz', 'r') as file:\n",
    "    content = file.read()\n",
    "    # print(content)\n",
    "    res = parseXYZ(content)\n",
    "    x_array = res[0]\n",
    "    y_array = res[1]\n",
    "    z_array = res[2]\n",
    "    # Make an Arrow Table from the x, y, z coordinate arrays\n",
    "    table3 = pa.Table.from_arrays([x_array, y_array, z_array], names=[\"x\", \"y\", \"z\"])\n",
    "    \n",
    "    # Convert the Table to bytes\n",
    "    output_stream3 = pa.BufferOutputStream()\n",
    "    with pa.ipc.RecordBatchStreamWriter(output_stream3, table3.schema) as writer:\n",
    "        writer.write_table(table3)\n",
    "    \n",
    "    # Get the bytes from the output stream\n",
    "    table3_bytes = output_stream3.getvalue().to_pybytes()\n",
    "    \n",
    "    # chromospyce.Widget(structure_string=test_string, delimiter=\"\\t\")\n",
    "    # chromospyce.Widget(structure=table3_bytes)\n",
    "\n",
    "# supplying an array of values for the color/size\n",
    "\n",
    "N = 200\n",
    "numbers = list(range(1, N+1))\n",
    "\n",
    "vc = {\n",
    "    \"color\": {\n",
    "        \"values\": numbers,\n",
    "        \"min\": 1,\n",
    "        \"max\": 100,\n",
    "        \"colorScale\": \"Spectral\"\n",
    "    }, \n",
    "    \"scale\": 0.02, \"links\": True, \"mark\": \"sphere\"\n",
    "}\n",
    "\n",
    "chromospyce.Widget(structure=table3_bytes, viewconfig=vc)"
   ]
  },
  {
   "cell_type": "code",
   "execution_count": null,
   "metadata": {},
   "outputs": [],
   "source": []
  }
 ],
 "metadata": {
  "kernelspec": {
   "display_name": "Python 3 (ipykernel)",
   "language": "python",
   "name": "python3"
  },
  "language_info": {
   "codemirror_mode": {
    "name": "ipython",
    "version": 3
   },
   "file_extension": ".py",
   "mimetype": "text/x-python",
   "name": "python",
   "nbconvert_exporter": "python",
   "pygments_lexer": "ipython3",
   "version": "3.11.9"
  }
 },
 "nbformat": 4,
 "nbformat_minor": 4
}
